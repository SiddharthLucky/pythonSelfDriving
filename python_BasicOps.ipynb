{
 "cells": [
  {
   "cell_type": "code",
   "execution_count": 1,
   "metadata": {},
   "outputs": [
    {
     "name": "stdout",
     "output_type": "stream",
     "text": [
      "test FullName Print value\n",
      "weight in lbs: 20\n",
      "9.0\n"
     ]
    }
   ],
   "source": [
    "#Variables can be passed in the print statement using +\n",
    "name = 'test FullName'\n",
    "print(name+' Print value')\n",
    "\n",
    "#Using input brings in a string value\n",
    "weight_lbs = input('weight in lbs: ')\n",
    "weight_kgs = int(weight_lbs)*0.45\n",
    "print(weight_kgs)"
   ]
  },
  {
   "cell_type": "code",
   "execution_count": 1,
   "metadata": {},
   "outputs": [
    {
     "name": "stdout",
     "output_type": "stream",
     "text": [
      "Python for \"Beginners\"\n",
      "\n",
      "Multi line string message python, test\n",
      "Line 2\n",
      "\n",
      "y\n",
      "s\n",
      "Pyth\n"
     ]
    }
   ],
   "source": [
    "#To add Quotes in a String\n",
    "course = 'Python for \"Beginners\"'\n",
    "print(course)\n",
    "\n",
    "#Adding Multiple line string\n",
    "message = '''\n",
    "Multi line string message python, test\n",
    "Line 2\n",
    "'''\n",
    "print(message)\n",
    "\n",
    "#String can also be made into an array\n",
    "print(course[1])\n",
    "print(course[-2]) #Gives he last but 2nd charecter.\n",
    "\n",
    "#String splicing\n",
    "#The end of the string value will be omitted\n",
    "print(course[0:4])\n"
   ]
  },
  {
   "cell_type": "code",
   "execution_count": null,
   "metadata": {},
   "outputs": [],
   "source": [
    "#Dynamic insertion of variables\n",
    "first = 'John'\n",
    "last = 'Smith'\n",
    "message = first + ' [' +last +']' + ' is a coder'\n",
    "#For string formatiing insert an f at the beginning of the string message.\n",
    "msg = f'{first} [{last}] is a coder'\n",
    "print(message)\n",
    "print(msg)"
   ]
  },
  {
   "cell_type": "code",
   "execution_count": null,
   "metadata": {},
   "outputs": [],
   "source": [
    "#Array operations on a String\n",
    "course = 'Python course'\n",
    "print(len(course))\n",
    "print(course.lower())\n",
    "print(course.upper())\n",
    "\n",
    "#Pass the charecter to be found\n",
    "course.find('P') #This is case sensitive\n",
    "course.find('O')\n",
    "\n",
    "#Replacing values in a string\n",
    "print(course.replace('course', 'Absolute Beginners course'))\n",
    "\n",
    "#Can do boolean checks\n",
    "print('Python' in course) #This is case sensitive.\n"
   ]
  },
  {
   "cell_type": "code",
   "execution_count": null,
   "metadata": {},
   "outputs": [],
   "source": [
    "#Membership functions - using In and Not in\n",
    "months = ['January', 'February', 'March']\n",
    "print('March' in months) #Similary you can also use not in."
   ]
  },
  {
   "cell_type": "code",
   "execution_count": null,
   "metadata": {},
   "outputs": [],
   "source": [
    "#In python, Strings are immutable and Lists are nutable.\n",
    "#It is good to keep in mind if the datatypes being used are mutable or not, ordered or not."
   ]
  },
  {
   "cell_type": "code",
   "execution_count": null,
   "metadata": {},
   "outputs": [],
   "source": [
    "#This is a test for immutability\n",
    "name = 'Sid'\n",
    "other_name = name\n",
    "name = 'Siddharth'\n",
    "print(name)\n",
    "print(other_name)\n",
    "#General question - Shouldnt the other_name value be = 'Siddharth'\n",
    "#Even though it looks like we changed the value containing in the name. \n",
    "#it doesnt change due to String immutability. The names are 2 different variables with diff memory locations."
   ]
  },
  {
   "cell_type": "code",
   "execution_count": null,
   "metadata": {},
   "outputs": [],
   "source": []
  }
 ],
 "metadata": {
  "kernelspec": {
   "display_name": "Python 3",
   "language": "python",
   "name": "python3"
  },
  "language_info": {
   "codemirror_mode": {
    "name": "ipython",
    "version": 3
   },
   "file_extension": ".py",
   "mimetype": "text/x-python",
   "name": "python",
   "nbconvert_exporter": "python",
   "pygments_lexer": "ipython3",
   "version": "3.7.3"
  },
  "widgets": {
   "application/vnd.jupyter.widget-state+json": {
    "state": {},
    "version_major": 2,
    "version_minor": 0
   }
  }
 },
 "nbformat": 4,
 "nbformat_minor": 2
}
