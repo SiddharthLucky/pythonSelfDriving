{
 "cells": [
  {
   "cell_type": "code",
   "execution_count": 1,
   "metadata": {},
   "outputs": [
    {
     "name": "stdout",
     "output_type": "stream",
     "text": [
      "test FullName Print value\n",
      "weight in lbs: 20\n",
      "9.0\n"
     ]
    }
   ],
   "source": [
    "#Variables can be passed in the print statement using +\n",
    "name = 'test FullName'\n",
    "print(name+' Print value')\n",
    "\n",
    "#Using input brings in a string value\n",
    "weight_lbs = input('weight in lbs: ')\n",
    "weight_kgs = int(weight_lbs)*0.45\n",
    "print(weight_kgs)"
   ]
  },
  {
   "cell_type": "code",
   "execution_count": null,
   "metadata": {},
   "outputs": [],
   "source": []
  }
 ],
 "metadata": {
  "kernelspec": {
   "display_name": "Python 3",
   "language": "python",
   "name": "python3"
  },
  "language_info": {
   "codemirror_mode": {
    "name": "ipython",
    "version": 3
   },
   "file_extension": ".py",
   "mimetype": "text/x-python",
   "name": "python",
   "nbconvert_exporter": "python",
   "pygments_lexer": "ipython3",
   "version": "3.6.7"
  }
 },
 "nbformat": 4,
 "nbformat_minor": 2
}
