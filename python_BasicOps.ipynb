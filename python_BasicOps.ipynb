{
 "cells": [
  {
   "cell_type": "code",
   "execution_count": 1,
   "metadata": {},
   "outputs": [
    {
     "name": "stdout",
     "output_type": "stream",
     "text": [
      "test FullName Print value\n",
      "weight in lbs: 20\n",
      "9.0\n"
     ]
    }
   ],
   "source": [
    "#Variables can be passed in the print statement using +\n",
    "name = 'test FullName'\n",
    "print(name+' Print value')\n",
    "\n",
    "#Using input brings in a string value\n",
    "weight_lbs = input('weight in lbs: ')\n",
    "weight_kgs = int(weight_lbs)*0.45\n",
    "print(weight_kgs)"
   ]
  },
  {
   "cell_type": "code",
   "execution_count": 1,
   "metadata": {},
   "outputs": [
    {
     "name": "stdout",
     "output_type": "stream",
     "text": [
      "Python for \"Beginners\"\n",
      "\n",
      "Multi line string message python, test\n",
      "Line 2\n",
      "\n",
      "y\n",
      "s\n",
      "Pyth\n"
     ]
    }
   ],
   "source": [
    "#To add Quotes in a String\n",
    "course = 'Python for \"Beginners\"'\n",
    "print(course)\n",
    "\n",
    "#Adding Multiple line string\n",
    "message = '''\n",
    "Multi line string message python, test\n",
    "Line 2\n",
    "'''\n",
    "print(message)\n",
    "\n",
    "#String can also be made into an array\n",
    "print(course[1])\n",
    "print(course[-2]) #Gives he last but 2nd charecter.\n",
    "\n",
    "#String splicing\n",
    "#The end of the string value will be omitted\n",
    "print(course[0:4])\n"
   ]
  },
  {
   "cell_type": "code",
   "execution_count": null,
   "metadata": {},
   "outputs": [],
   "source": [
    "#Dynamic insertion of variables\n",
    "first = 'John'\n",
    "last = 'Smith'\n",
    "message = first + ' [' +last +']' + ' is a coder'\n",
    "#For string formatiing insert an f at the beginning of the string message.\n",
    "msg = f'{first} [{last}] is a coder'\n",
    "print(message)\n",
    "print(msg)"
   ]
  },
  {
   "cell_type": "code",
   "execution_count": null,
   "metadata": {},
   "outputs": [],
   "source": []
  }
 ],
 "metadata": {
  "kernelspec": {
   "display_name": "Python 3",
   "language": "python",
   "name": "python3"
  },
  "language_info": {
   "codemirror_mode": {
    "name": "ipython",
    "version": 3
   },
   "file_extension": ".py",
   "mimetype": "text/x-python",
   "name": "python",
   "nbconvert_exporter": "python",
   "pygments_lexer": "ipython3",
   "version": "3.7.3"
  },
  "widgets": {
   "application/vnd.jupyter.widget-state+json": {
    "state": {},
    "version_major": 2,
    "version_minor": 0
   }
  }
 },
 "nbformat": 4,
 "nbformat_minor": 2
}
